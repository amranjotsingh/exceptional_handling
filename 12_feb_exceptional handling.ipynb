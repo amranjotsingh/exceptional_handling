{
 "cells": [
  {
   "cell_type": "code",
   "execution_count": 1,
   "id": "b23e5a7f-5766-4e2f-8219-76a2f9b95d6d",
   "metadata": {},
   "outputs": [],
   "source": [
    "# Q1 - What is an Exception in python? Write the difference between Exceptions and syntax errors."
   ]
  },
  {
   "cell_type": "code",
   "execution_count": 2,
   "id": "895d2250-137c-4185-a6e2-a52783876d1b",
   "metadata": {},
   "outputs": [],
   "source": [
    "# In Python, an exception is an error that occurs during the execution of a program. \n",
    "# When an exception occurs, the normal flow of the program is disrupted, and \n",
    "# the interpreter tries to find an exception handler to deal with the exception. \n",
    "# If no handler is found, the interpreter will terminate the program and print an error message.\n",
    "\n",
    "\n",
    "# Syntax errors, on the other hand, occur when the Python interpreter is unable \n",
    "# to parse a program due to a violation of the language's \n",
    "# syntax rules. Syntax errors are detected by the interpreter before the program is\n",
    "# executed and they prevent the program from running.\n",
    "\n",
    "\n",
    "# The main difference between exceptions and syntax errors is that exceptions occur during \n",
    "# the execution of a program, while syntax errors occur before the program is executed. \n",
    "# Another difference is that exceptions can be handled using exception handling constructs\n",
    "# such as try and except, while syntax errors cannot be handled in this way."
   ]
  },
  {
   "cell_type": "code",
   "execution_count": 3,
   "id": "ad668af8-f056-4662-8f56-c27ecaecc098",
   "metadata": {},
   "outputs": [],
   "source": [
    "# Q-2 What happens when an exception is not handled ? Explain with an example."
   ]
  },
  {
   "cell_type": "code",
   "execution_count": 1,
   "id": "3cf1dc82-1ef4-43f9-9c98-ef105e78cc11",
   "metadata": {},
   "outputs": [],
   "source": [
    "# If exception is not handled the program will terminate and the error message will be displayed. for example"
   ]
  },
  {
   "cell_type": "code",
   "execution_count": 3,
   "id": "2538bd9f-03a3-4b25-87ba-3da3a562acb5",
   "metadata": {},
   "outputs": [
    {
     "ename": "ZeroDivisionError",
     "evalue": "division by zero",
     "output_type": "error",
     "traceback": [
      "\u001b[0;31m---------------------------------------------------------------------------\u001b[0m",
      "\u001b[0;31mZeroDivisionError\u001b[0m                         Traceback (most recent call last)",
      "Cell \u001b[0;32mIn[3], line 2\u001b[0m\n\u001b[1;32m      1\u001b[0m a\u001b[38;5;241m=\u001b[39m \u001b[38;5;241m1\u001b[39m\n\u001b[0;32m----> 2\u001b[0m \u001b[43ma\u001b[49m\u001b[38;5;241;43m/\u001b[39;49m\u001b[38;5;241;43m0\u001b[39;49m\n",
      "\u001b[0;31mZeroDivisionError\u001b[0m: division by zero"
     ]
    }
   ],
   "source": [
    "a= 1\n",
    "a/0"
   ]
  },
  {
   "cell_type": "code",
   "execution_count": 5,
   "id": "f8607330-4cf4-4546-ac9d-ed7f0b5940a0",
   "metadata": {},
   "outputs": [
    {
     "name": "stdout",
     "output_type": "stream",
     "text": [
      "Exceptional handling with try and except\n"
     ]
    }
   ],
   "source": [
    "try:\n",
    "    a=1\n",
    "    a/0\n",
    "except ZeroDivisionError :\n",
    "    print(\"Exceptional handling with try and except\")"
   ]
  },
  {
   "cell_type": "code",
   "execution_count": 6,
   "id": "a25d43eb-47ba-455d-ab9b-3cf634f633aa",
   "metadata": {},
   "outputs": [],
   "source": [
    "# Q-3 Which python statements are used to catch and handle exceptions? Explain with an example."
   ]
  },
  {
   "cell_type": "code",
   "execution_count": 7,
   "id": "3b8bc061-05c4-4ffb-8c62-8faf44bfe15d",
   "metadata": {},
   "outputs": [],
   "source": [
    "#  In python we use try-except statements to catch and handle exceptions. The try\n",
    "# block contain code that might raise an exception and except block contain the code\n",
    "# that handle the exceptions. for example"
   ]
  },
  {
   "cell_type": "code",
   "execution_count": 8,
   "id": "36167dbd-0339-451d-99c0-44049263dcad",
   "metadata": {},
   "outputs": [
    {
     "name": "stdout",
     "output_type": "stream",
     "text": [
      "5.0\n",
      "Error: division by zero\n",
      "None\n"
     ]
    }
   ],
   "source": [
    "def divide(a, b):\n",
    "    try:\n",
    "        result = a / b\n",
    "    except ZeroDivisionError:\n",
    "        print(\"Error: division by zero\")\n",
    "        result = None\n",
    "    return result\n",
    "\n",
    "print(divide(10, 2))\n",
    "print(divide(10, 0))\n"
   ]
  },
  {
   "cell_type": "code",
   "execution_count": 10,
   "id": "f9708a50-fe8a-4d5e-9051-852dca19a94f",
   "metadata": {},
   "outputs": [],
   "source": [
    "# Q-4 Explain with an example: try and else , finally and raise?"
   ]
  },
  {
   "cell_type": "code",
   "execution_count": 11,
   "id": "653c43cc-1537-4c3e-b747-442c465b4be1",
   "metadata": {},
   "outputs": [],
   "source": [
    "# try - try block contain code that might raise an exception and els block only execute if try block is \n",
    "# sucessfully executed for example :-"
   ]
  },
  {
   "cell_type": "code",
   "execution_count": 13,
   "id": "6cb33008-e944-41f2-9f7f-4c2097e7c8df",
   "metadata": {},
   "outputs": [
    {
     "name": "stdin",
     "output_type": "stream",
     "text": [
      "Enter your number 88\n"
     ]
    },
    {
     "name": "stdout",
     "output_type": "stream",
     "text": [
      "Error name is  unsupported operand type(s) for +: 'int' and 'str'\n"
     ]
    }
   ],
   "source": [
    "a = 50\n",
    "number=input(\"Enter your number\")\n",
    "\n",
    "try:\n",
    "    result = a+number\n",
    "\n",
    "except TypeError as e:\n",
    "    print(\"Error name is \",e)\n",
    "    \n",
    "    \n",
    "else:\n",
    "    print(\"This is only execute if try block will sucessfully executed\")"
   ]
  },
  {
   "cell_type": "code",
   "execution_count": 15,
   "id": "68af8358-605d-4990-8dc2-995fe4439f60",
   "metadata": {},
   "outputs": [
    {
     "name": "stdin",
     "output_type": "stream",
     "text": [
      "Enter your number 88\n"
     ]
    },
    {
     "name": "stdout",
     "output_type": "stream",
     "text": [
      "Summation is  138\n",
      "This is only execute if try block will sucessfully executed\n"
     ]
    }
   ],
   "source": [
    "a = 50\n",
    "number=input(\"Enter your number\")\n",
    "\n",
    "try:\n",
    "    result = print(\"Summation is \",a+int(number))\n",
    "\n",
    "except TypeError as e:\n",
    "    print(\"Error name is \",e)\n",
    "    \n",
    "    \n",
    "else:\n",
    "    print(\"This is only execute if try block will sucessfully executed\")"
   ]
  },
  {
   "cell_type": "code",
   "execution_count": 16,
   "id": "5dcec498-28ba-47b5-9f5f-eec376510d84",
   "metadata": {},
   "outputs": [],
   "source": [
    "#  So here else will executed because try block is sucessfully executed."
   ]
  },
  {
   "cell_type": "code",
   "execution_count": 18,
   "id": "12bb7807-caec-4767-8b07-1edf5edd2292",
   "metadata": {},
   "outputs": [],
   "source": [
    "# finally - The final block always executes \n",
    "# after the normal termination of the try block or after the try block terminates due to some exception. for example"
   ]
  },
  {
   "cell_type": "code",
   "execution_count": 20,
   "id": "482273e4-498b-499d-a824-c45d6040aa67",
   "metadata": {},
   "outputs": [
    {
     "name": "stdout",
     "output_type": "stream",
     "text": [
      "Can't divide by zero\n",
      "This is always executed\n"
     ]
    }
   ],
   "source": [
    "try:\n",
    "    k = 5//0  \n",
    "    print(k)\n",
    "    \n",
    "\n",
    "except ZeroDivisionError:\n",
    "    print(\"Can't divide by zero\")\n",
    "    \n",
    "    \n",
    "finally:\n",
    "    \n",
    "    print('This is always executed')"
   ]
  },
  {
   "cell_type": "code",
   "execution_count": 21,
   "id": "3a2a8a14-2455-456c-b274-3d05306939b0",
   "metadata": {},
   "outputs": [],
   "source": [
    "# raise - The raise statement is used to manually raise an exception in Python. Here's an example:"
   ]
  },
  {
   "cell_type": "code",
   "execution_count": 22,
   "id": "0e92e176-664a-457d-a4df-4f1874a8f8b5",
   "metadata": {},
   "outputs": [
    {
     "name": "stdout",
     "output_type": "stream",
     "text": [
      "Age cannot be negative.\n"
     ]
    }
   ],
   "source": [
    "def check_age(age):\n",
    "    if age < 0:\n",
    "        raise ValueError(\"Age cannot be negative.\")\n",
    "    elif age < 18:\n",
    "        raise ValueError(\"You must be 18 or older to use this service.\")\n",
    "    else:\n",
    "        print(\"Access granted.\")\n",
    "\n",
    "try:\n",
    "    check_age(-1)\n",
    "except ValueError as error:\n",
    "    print(error)\n"
   ]
  },
  {
   "cell_type": "code",
   "execution_count": 23,
   "id": "dfe36367-5867-4cca-b47f-79e9813c6eef",
   "metadata": {},
   "outputs": [],
   "source": [
    "# What are custom exceptions in python? Why do we need custom exceptions? explain with an example."
   ]
  },
  {
   "cell_type": "code",
   "execution_count": 24,
   "id": "045a0e58-1467-433c-be14-411aa5658746",
   "metadata": {},
   "outputs": [],
   "source": [
    "# In Python, we can create custom exceptions by defining new classes that inherit from \n",
    "# the built-in Exception class or one of its subclasses. Custom exceptions allow us \n",
    "# to define our own error conditions and provide more informative error messages to users.\n",
    "\n",
    "\n",
    "\n",
    "# We need custom exceptions when we want to raise an exception that is specific to \n",
    "# our application or module, and that provides more information about the error that \n",
    "# occurred. For example, if we are developing a financial application, we might want \n",
    "# to define custom exceptions for specific error conditions, such as insufficient funds,\n",
    "# invalid account number, or transaction limit exceeded.\n",
    "\n",
    "# Here's an example of how to define and use a custom exception in Python:"
   ]
  },
  {
   "cell_type": "code",
   "execution_count": 27,
   "id": "7c8537f5-dcb3-448a-bb0a-1c557a6885ec",
   "metadata": {},
   "outputs": [
    {
     "name": "stdout",
     "output_type": "stream",
     "text": [
      "Insufficient funds: balance=100, amount=200\n"
     ]
    }
   ],
   "source": [
    "class InsufficientFundsError(Exception):\n",
    "    def __init__(self, balance, amount):\n",
    "        self.balance = balance\n",
    "        self.amount = amount\n",
    "\n",
    "    def __str__(self):\n",
    "        return \"Insufficient funds: balance={}, amount={}\".format(\n",
    "            self.balance, self.amount)\n",
    "\n",
    "def withdraw(balance, amount):\n",
    "    if balance < amount:\n",
    "        raise InsufficientFundsError(balance, amount)\n",
    "    else:\n",
    "        balance -= amount\n",
    "        print(\"Withdrawal successful. New balance: \", balance)\n",
    "\n",
    "try:\n",
    "    withdraw(100, 200)\n",
    "except InsufficientFundsError as e:\n",
    "    print(e)\n"
   ]
  },
  {
   "cell_type": "code",
   "execution_count": 28,
   "id": "28fe3ad4-1cea-4fb7-b926-c4e20a167795",
   "metadata": {},
   "outputs": [],
   "source": [
    "# Q- Create a custom exception class. Use this class to handle an exceprion."
   ]
  },
  {
   "cell_type": "code",
   "execution_count": 31,
   "id": "3d489533-8998-4e25-9260-81afa243572a",
   "metadata": {},
   "outputs": [
    {
     "name": "stdout",
     "output_type": "stream",
     "text": [
      "Withdrawal successful. New balance:  4997000\n"
     ]
    }
   ],
   "source": [
    "class InsufficientFundError(Exception):\n",
    "    def __init__(self, balance, amount):\n",
    "        self.balance = balance\n",
    "        self.amount = amount\n",
    "        \n",
    "    def __str__(self):\n",
    "        return \"Insufficient funds : balance={}, amount{}\".format(self.balance, self.amount)\n",
    "    \n",
    "    \n",
    "def withdraw(balance, amount):\n",
    "    if balance<amount:\n",
    "        raise InsufficientFundError(balance,amount)\n",
    "        \n",
    "    else:\n",
    "        balance -=amount\n",
    "        print(\"Withdrawal successful. New balance: \", balance)\n",
    "        \n",
    "try:\n",
    "    withdraw(5000000,3000)\n",
    "    \n",
    "except InsufficientFundError as e:\n",
    "    print(e)\n",
    "        "
   ]
  },
  {
   "cell_type": "code",
   "execution_count": null,
   "id": "b21c63d7-dfe2-498a-8ccb-72775a5d9834",
   "metadata": {},
   "outputs": [],
   "source": []
  }
 ],
 "metadata": {
  "kernelspec": {
   "display_name": "Python 3 (ipykernel)",
   "language": "python",
   "name": "python3"
  },
  "language_info": {
   "codemirror_mode": {
    "name": "ipython",
    "version": 3
   },
   "file_extension": ".py",
   "mimetype": "text/x-python",
   "name": "python",
   "nbconvert_exporter": "python",
   "pygments_lexer": "ipython3",
   "version": "3.10.8"
  }
 },
 "nbformat": 4,
 "nbformat_minor": 5
}
